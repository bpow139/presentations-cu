{
 "cells": [
  {
   "cell_type": "code",
   "execution_count": 10,
   "metadata": {
    "scrolled": true
   },
   "outputs": [
    {
     "name": "stderr",
     "output_type": "stream",
     "text": [
      "Using TensorFlow backend.\n"
     ]
    },
    {
     "ename": "FileNotFoundError",
     "evalue": "[Errno 2] No such file or directory: '/Users/rosenmic/Syncplicity/Professional_files/Presentations/ML_guided_CDS, incl_gen_images//'",
     "output_type": "error",
     "traceback": [
      "\u001b[0;31m---------------------------------------------------------------------------\u001b[0m",
      "\u001b[0;31mFileNotFoundError\u001b[0m                         Traceback (most recent call last)",
      "\u001b[0;32m<ipython-input-10-9a0176f9308f>\u001b[0m in \u001b[0;36m<module>\u001b[0;34m\u001b[0m\n\u001b[1;32m      4\u001b[0m \u001b[0;32mimport\u001b[0m \u001b[0mos\u001b[0m\u001b[0;34m\u001b[0m\u001b[0;34m\u001b[0m\u001b[0m\n\u001b[1;32m      5\u001b[0m \u001b[0;34m\u001b[0m\u001b[0m\n\u001b[0;32m----> 6\u001b[0;31m \u001b[0mos\u001b[0m\u001b[0;34m.\u001b[0m\u001b[0mchdir\u001b[0m\u001b[0;34m(\u001b[0m\u001b[0mpath\u001b[0m\u001b[0;34m=\u001b[0m\u001b[0;34m\"/Users/rosenmic/Syncplicity/Professional_files/Presentations/ML_guided_CDS, incl_gen_images//\"\u001b[0m\u001b[0;34m)\u001b[0m\u001b[0;34m\u001b[0m\u001b[0;34m\u001b[0m\u001b[0m\n\u001b[0m\u001b[1;32m      7\u001b[0m \u001b[0;34m\u001b[0m\u001b[0m\n\u001b[1;32m      8\u001b[0m \u001b[0;31m# Path to image to transform\u001b[0m\u001b[0;34m\u001b[0m\u001b[0;34m\u001b[0m\u001b[0;34m\u001b[0m\u001b[0m\n",
      "\u001b[0;31mFileNotFoundError\u001b[0m: [Errno 2] No such file or directory: '/Users/rosenmic/Syncplicity/Professional_files/Presentations/ML_guided_CDS, incl_gen_images//'"
     ]
    }
   ],
   "source": [
    "# Neural style transfer from textbook\n",
    "\n",
    "from keras.preprocessing.image import load_img, img_to_array\n",
    "import os\n",
    "\n",
    "os.chdir(path=\"/Users/rosenmic/Syncplicity/Professional_files/Presentations/ML_guided_CDS, incl_gen_images//\")\n",
    "\n",
    "# Path to image to transform\n",
    "target_image_path = 'img/scenic_view.jpg'\n",
    "\n",
    "# Path to image style\n",
    "style_reference_image_path = 'img/starry_night_full.jpg'\n",
    "\n",
    "#Dimensions of generated picture\n",
    "width, height = load_img(target_image_path).size\n",
    "img_height = 400\n",
    "img_width = int(width* img_height/height)\n",
    "\n"
   ]
  },
  {
   "cell_type": "code",
   "execution_count": 2,
   "metadata": {},
   "outputs": [],
   "source": [
    "# Auxillary functions\n",
    "import numpy as np\n",
    "from keras.applications import vgg19\n",
    "\n",
    "def preprocess_image(image_path):\n",
    "    img = load_img(image_path, target_size=(img_height, img_width))\n",
    "    img = img_to_array(img)\n",
    "    img = np.expand_dims(img, axis=0)\n",
    "    img = vgg19.preprocess_input(img)\n",
    "    return img\n",
    "\n",
    "def deprocess_image(x):\n",
    "    \n",
    "    # Zero-centering by removing mean pixel value from ImageNet\n",
    "    x[:, :, 0] += 103.939\n",
    "    x[:, :, 1] += 116.779\n",
    "    x[:, :, 2] += 123.68\n",
    "    \n",
    "    # Convert BGR to RGB image \n",
    "    x = x[:, :, ::-1]\n",
    "    x = np.clip(x, 0, 255).astype('uint8')\n",
    "    return x"
   ]
  },
  {
   "cell_type": "code",
   "execution_count": 3,
   "metadata": {},
   "outputs": [
    {
     "name": "stdout",
     "output_type": "stream",
     "text": [
      "Model loaded.\n"
     ]
    }
   ],
   "source": [
    "# Load pretrained VGG19 network and apply to images\n",
    "from keras import backend as K\n",
    "\n",
    "target_image = K.constant(preprocess_image(target_image_path))\n",
    "style_reference_image = K. constant(preprocess_image(style_reference_image_path))\n",
    "# Placeholder for generated image\n",
    "combination_image = K.placeholder((1, img_height, img_width, 3))\n",
    "\n",
    "# Combine images into single batch\n",
    "input_tensor = K.concatenate([target_image, style_reference_image, combination_image], axis=0)\n",
    "model = vgg19.VGG19(input_tensor=input_tensor, weights='imagenet', include_top=False)\n",
    "print('Model loaded.')\n"
   ]
  },
  {
   "cell_type": "code",
   "execution_count": 4,
   "metadata": {},
   "outputs": [],
   "source": [
    "# Content loss\n",
    "def content_loss(base, combination):\n",
    "    return K.sum(K.square(combination - base))\n"
   ]
  },
  {
   "cell_type": "code",
   "execution_count": 5,
   "metadata": {},
   "outputs": [],
   "source": [
    "# Style loss (compute Gram matrix of input matrix)\n",
    "def gram_matrix(x):\n",
    "    features = K.batch_flatten(K.permute_dimensions(x, (2, 0, 1)))\n",
    "    gram = K.dot(features, K.transpose(features))\n",
    "    return gram\n",
    "\n",
    "def style_loss(style, combination):\n",
    "    S = gram_matrix(style)\n",
    "    C = gram_matrix(combination)\n",
    "    channels = 3\n",
    "    size = img_height * img_width\n",
    "    return K.sum(K.square(S - C)) / 4. * (channels ** 2) * (size ** 2)\n"
   ]
  },
  {
   "cell_type": "code",
   "execution_count": 6,
   "metadata": {},
   "outputs": [],
   "source": [
    "# Total variation loss\n",
    "def total_variation_loss(x):\n",
    "    a = K.square(\n",
    "        x[:, :img_height - 1, :img_width - 1, :] -\n",
    "        x[:, 1:, :img_width - 1, :])\n",
    "    b = K.square(\n",
    "        x[:, :img_height - 1, :img_width - 1, :] -\n",
    "        x[:, :img_height - 1, 1:, :])\n",
    "    return K.sum(K.pow(a + b, 1.25))\n"
   ]
  },
  {
   "cell_type": "code",
   "execution_count": 7,
   "metadata": {},
   "outputs": [],
   "source": [
    "# Define the final loss that will be minimized\n",
    "outputs_dict = dict([(layer.name, layer.output) for layer in model.layers])\n",
    "# Layer used for content loss\n",
    "content_layer = 'block5_conv2'\n",
    "# Layers used for style loss\n",
    "style_layers = ['block1_conv1',\n",
    "                'block2_conv1',\n",
    "                'block3_conv1',\n",
    "                'block4_conv1',\n",
    "                'block5_conv1']\n",
    "# Weights in weighted-average of the loss components\n",
    "total_variation_weight = 1e-4\n",
    "style_weight = 1.\n",
    "content_weight = 0.025\n",
    "\n",
    "# Define loss by adding all components to scalar variable\n",
    "loss = K.variable(0.)\n",
    "layer_features = outputs_dict[content_layer]\n",
    "target_image_features = layer_features[0, :, :, :]\n",
    "combination_features = layer_features[2, :, :, :]\n",
    "loss += content_weight * content_loss(target_image_features, combination_features)\n",
    "\n",
    "# Add a style loss component for each target layer\n",
    "for layer_name in style_layers:\n",
    "    layer_features = outputs_dict[layer_name]\n",
    "    style_reference_features = layer_features[1, :, :, :]\n",
    "    combination_features = layer_features[2, :, :, :]\n",
    "    s1 = style_loss(style_reference_features, combination_features)\n",
    "    loss += (style_weight / len(style_layers)) * s1\n",
    "\n",
    "# Add total variation loss\n",
    "loss += total_variation_weight * total_variation_loss(combination_image)\n",
    "\n"
   ]
  },
  {
   "cell_type": "code",
   "execution_count": 8,
   "metadata": {},
   "outputs": [],
   "source": [
    "# Set up gradient-descent process\n",
    "\n",
    "# Get gradients of generated image with regard to loss\n",
    "grads = K.gradients(loss, combination_image)[0]\n",
    "\n",
    "# Fetch values of current loss and current gradients\n",
    "fetch_loss_and_grads = K.function([combination_image], [loss, grads])\n",
    "\n",
    "# Class that wraps fetch_loss_and_grads to let us retrieve losses and gradients via two separate calls\n",
    "class Evaluator(object):\n",
    "    \n",
    "    def __init__(self):\n",
    "        self.loss_value = None\n",
    "        self.grads_values = None\n",
    "        \n",
    "    def loss(self, x):\n",
    "        assert self.loss_value is None\n",
    "        x = x.reshape((1, img_height, img_width, 3))\n",
    "        outs = fetch_loss_and_grads([x])\n",
    "        loss_value = outs[0]\n",
    "        grad_values = outs[1].flatten().astype('float64')\n",
    "        self.loss_value = loss_value\n",
    "        self.grad_values = grad_values\n",
    "        return self.loss_value\n",
    "    \n",
    "    def grads(self, x):\n",
    "        assert self.loss_value is not None\n",
    "        grad_values = np.copy(self.grad_values)\n",
    "        self.loss_value = None\n",
    "        self.grad_values = None\n",
    "        return grad_values\n",
    "\n",
    "evaluator = Evaluator()\n"
   ]
  },
  {
   "cell_type": "code",
   "execution_count": null,
   "metadata": {},
   "outputs": [
    {
     "name": "stdout",
     "output_type": "stream",
     "text": [
      "Start of iteration 0\n",
      "Current loss value: 1.24873e+32\n",
      "Image saved as my_result_at_iteration_0.png\n",
      "Iteration 0 completed in 494s\n",
      "Start of iteration 1\n"
     ]
    },
    {
     "name": "stderr",
     "output_type": "stream",
     "text": [
      "/Users/rosenmic/anaconda3/lib/python3.5/site-packages/ipykernel_launcher.py:20: DeprecationWarning: `imsave` is deprecated!\n",
      "`imsave` is deprecated in SciPy 1.0.0, and will be removed in 1.2.0.\n",
      "Use ``imageio.imwrite`` instead.\n"
     ]
    },
    {
     "name": "stdout",
     "output_type": "stream",
     "text": [
      "Current loss value: 3.55717e+31\n",
      "Image saved as my_result_at_iteration_1.png\n",
      "Iteration 1 completed in 494s\n",
      "Start of iteration 2\n",
      "Current loss value: 1.96967e+31\n",
      "Image saved as my_result_at_iteration_2.png\n",
      "Iteration 2 completed in 493s\n",
      "Start of iteration 3\n",
      "Current loss value: 1.40623e+31\n",
      "Image saved as my_result_at_iteration_3.png\n",
      "Iteration 3 completed in 501s\n",
      "Start of iteration 4\n",
      "Current loss value: 1.12556e+31\n",
      "Image saved as my_result_at_iteration_4.png\n",
      "Iteration 4 completed in 492s\n",
      "Start of iteration 5\n",
      "Current loss value: 8.94395e+30\n",
      "Image saved as my_result_at_iteration_5.png\n",
      "Iteration 5 completed in 492s\n",
      "Start of iteration 6\n",
      "Current loss value: 7.78091e+30\n",
      "Image saved as my_result_at_iteration_6.png\n",
      "Iteration 6 completed in 493s\n",
      "Start of iteration 7\n",
      "Current loss value: 6.51437e+30\n",
      "Image saved as my_result_at_iteration_7.png\n",
      "Iteration 7 completed in 499s\n",
      "Start of iteration 8\n",
      "Current loss value: 5.89903e+30\n",
      "Image saved as my_result_at_iteration_8.png\n",
      "Iteration 8 completed in 505s\n",
      "Start of iteration 9\n",
      "Current loss value: 5.30287e+30\n",
      "Image saved as my_result_at_iteration_9.png\n",
      "Iteration 9 completed in 493s\n",
      "Start of iteration 10\n",
      "Current loss value: 4.89311e+30\n",
      "Image saved as my_result_at_iteration_10.png\n",
      "Iteration 10 completed in 491s\n",
      "Start of iteration 11\n",
      "Current loss value: 4.5087e+30\n",
      "Image saved as my_result_at_iteration_11.png\n",
      "Iteration 11 completed in 487s\n",
      "Start of iteration 12\n",
      "Current loss value: 4.21298e+30\n",
      "Image saved as my_result_at_iteration_12.png\n",
      "Iteration 12 completed in 490s\n",
      "Start of iteration 13\n",
      "Current loss value: 3.59235e+30\n",
      "Image saved as my_result_at_iteration_13.png\n",
      "Iteration 13 completed in 503s\n",
      "Start of iteration 14\n",
      "Current loss value: 3.33852e+30\n",
      "Image saved as my_result_at_iteration_14.png\n",
      "Iteration 14 completed in 492s\n",
      "Start of iteration 15\n"
     ]
    }
   ],
   "source": [
    "# Run style transfer loop\n",
    "from scipy.optimize import fmin_l_bfgs_b\n",
    "from scipy.misc import imsave\n",
    "import time\n",
    "\n",
    "result_prefix = './img/my_result'\n",
    "iterations = 20\n",
    "\n",
    "# Load and flatten target image (needed b/c scipy.optimize.fmin_l_bfgs_b only process flat vectors)\n",
    "x = preprocess_image(target_image_path)\n",
    "x = x.flatten()\n",
    "for i in range(iterations):\n",
    "    print('Start of iteration', i)\n",
    "    start_time = time.time()\n",
    "    x, min_val, info = fmin_l_bfgs_b(evaluator.loss, x, fprime=evaluator.grads, maxfun=20)\n",
    "    print('Current loss value:', min_val)\n",
    "    img = x.copy().reshape((img_height, img_width, 3))\n",
    "    img = deprocess_image(img)\n",
    "    fname = result_prefix + '_at_iteration_%d.png' % i\n",
    "    imsave(fname, img)\n",
    "    print('Image saved as', fname)\n",
    "    end_time = time.time()\n",
    "    print('Iteration %d completed in %ds' % (i, end_time - start_time))\n"
   ]
  },
  {
   "cell_type": "code",
   "execution_count": null,
   "metadata": {},
   "outputs": [],
   "source": []
  }
 ],
 "metadata": {
  "kernelspec": {
   "display_name": "Python 3",
   "language": "python",
   "name": "python3"
  },
  "language_info": {
   "codemirror_mode": {
    "name": "ipython",
    "version": 3
   },
   "file_extension": ".py",
   "mimetype": "text/x-python",
   "name": "python",
   "nbconvert_exporter": "python",
   "pygments_lexer": "ipython3",
   "version": "3.7.3"
  }
 },
 "nbformat": 4,
 "nbformat_minor": 2
}
