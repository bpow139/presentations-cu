{
 "cells": [
  {
   "cell_type": "code",
   "execution_count": null,
   "metadata": {},
   "outputs": [],
   "source": [
    "# Will this line of code produce any output?"
   ]
  },
  {
   "cell_type": "code",
   "execution_count": null,
   "metadata": {},
   "outputs": [],
   "source": [
    "# The following code will print a gretting inside a box.\n",
    "print('-'*14)\n",
    "print('|hello world.|')\n",
    "print('-'*14)"
   ]
  },
  {
   "cell_type": "code",
   "execution_count": null,
   "metadata": {
    "scrolled": false
   },
   "outputs": [],
   "source": [
    "#Simple math and the 'format' feature.\n",
    "# Show how to add multiple inputs.\n",
    "x =4\n",
    "y=2\n",
    "z = x*y / 5\n",
    "print('The Answer is: {} with variables {} and {} '.format(z,x,y))"
   ]
  },
  {
   "cell_type": "code",
   "execution_count": null,
   "metadata": {},
   "outputs": [],
   "source": [
    "import math"
   ]
  },
  {
   "cell_type": "code",
   "execution_count": null,
   "metadata": {},
   "outputs": [],
   "source": [
    "# Strings (str):\n",
    "str1= \"dog\"\n",
    "str2 = \"Hello world.\"\n",
    "str3 = 'single quotes work too!'\n",
    "\n",
    "# Integers (int):\n",
    "x = 1\n",
    "y= 3\n",
    "u = -5\n",
    "\n",
    "# Float (float):\n",
    "f = 1.5\n",
    "r = 2/3\n",
    "a = 1/9\n",
    "pie = math.pi\n",
    "\n",
    "#Boolean (bool):\n",
    "ans = True\n",
    "ans2 = False # notice how the format changes when using a bool.\n",
    "\n",
    "# List (list): \n",
    "list1 = [1,3,8,10]\n",
    "\n",
    "# Tuple (tuple):\n",
    "tup = (1,3,8,10)\n",
    "\n",
    "#Dictionary (dict):\n",
    "dict1= {1: 'Brett', 2: 'Tony', 3: 'Margo'}"
   ]
  },
  {
   "cell_type": "code",
   "execution_count": null,
   "metadata": {},
   "outputs": [],
   "source": [
    "print(\n",
    "type(str1),\n",
    "type(x),\n",
    "type(pie),\n",
    "type(ans2),\n",
    "type(list1),\n",
    "type(tup),\n",
    "type(dict1)\n",
    ")"
   ]
  },
  {
   "cell_type": "code",
   "execution_count": null,
   "metadata": {},
   "outputs": [],
   "source": [
    "# If Statements:\n",
    "# show with 1/3 and 0.333\n",
    "\n",
    "\n",
    "x=5\n",
    "y=1/3\n",
    "    \n",
    "if x == y:\n",
    "    print('x is the same as y')\n",
    "elif x < y:\n",
    "        print('x is less than y')\n",
    "else: \n",
    "    print('x must be greater than y')\n"
   ]
  },
  {
   "cell_type": "code",
   "execution_count": null,
   "metadata": {},
   "outputs": [],
   "source": [
    "# Need at least the 'else' to have it run.\n",
    "\n",
    "if x > y and str1 == 'dog':\n",
    "    print('checks out')\n",
    "else:\n",
    "       pass "
   ]
  },
  {
   "cell_type": "code",
   "execution_count": null,
   "metadata": {},
   "outputs": [],
   "source": [
    "# While Loop\n",
    "\n",
    "i = 1\n",
    "while i < 6:\n",
    "  print(i)\n",
    "  i += 1 # same as i = i+1"
   ]
  },
  {
   "cell_type": "code",
   "execution_count": null,
   "metadata": {},
   "outputs": [],
   "source": [
    "# For Loop\n",
    "\n",
    "fruits = ['apple', 'banana', 'orange', 'mango']\n",
    "\n",
    "for fruit in fruits: \n",
    "    print(fruit)\n"
   ]
  },
  {
   "cell_type": "code",
   "execution_count": null,
   "metadata": {},
   "outputs": [],
   "source": [
    "for fruit in fruits: \n",
    "    if fruit == 'banana':\n",
    "        continue\n",
    "    print(fruit)\n",
    "    "
   ]
  },
  {
   "cell_type": "code",
   "execution_count": null,
   "metadata": {},
   "outputs": [],
   "source": [
    "#remember that index starts at 0.\n",
    "for i in range(6):\n",
    "    print(i)"
   ]
  },
  {
   "cell_type": "code",
   "execution_count": null,
   "metadata": {},
   "outputs": [],
   "source": [
    "# Functions\n",
    "\n",
    "def my_function(name):\n",
    "  print('Hello '+ name + ' from a function')"
   ]
  },
  {
   "cell_type": "code",
   "execution_count": null,
   "metadata": {},
   "outputs": [],
   "source": [
    "my_function('Bobby')"
   ]
  },
  {
   "cell_type": "code",
   "execution_count": null,
   "metadata": {},
   "outputs": [],
   "source": [
    "def compute(x):\n",
    "    return x-4\n",
    "\n",
    "compute(5)"
   ]
  },
  {
   "cell_type": "code",
   "execution_count": 1,
   "metadata": {},
   "outputs": [
    {
     "name": "stdout",
     "output_type": "stream",
     "text": [
      "pygame 1.9.6\n",
      "Hello from the pygame community. https://www.pygame.org/contribute.html\n"
     ]
    }
   ],
   "source": [
    "# install demo\n",
    "\n",
    "import pygame"
   ]
  },
  {
   "cell_type": "code",
   "execution_count": 2,
   "metadata": {},
   "outputs": [],
   "source": [
    "# importing \n",
    "# see above with math.\n",
    "\n",
    "import numpy as np\n",
    "import pandas as pd\n",
    "from sklearn import preprocessing as proc \n",
    "#much easier to narrow down the imports sometimes.\n"
   ]
  },
  {
   "cell_type": "code",
   "execution_count": null,
   "metadata": {},
   "outputs": [],
   "source": [
    "\n",
    "\n",
    "\n",
    "# sklearn.preprocessing.binarize VS. proc.binarize\n"
   ]
  },
  {
   "cell_type": "code",
   "execution_count": 3,
   "metadata": {},
   "outputs": [
    {
     "data": {
      "text/html": [
       "<div>\n",
       "<style scoped>\n",
       "    .dataframe tbody tr th:only-of-type {\n",
       "        vertical-align: middle;\n",
       "    }\n",
       "\n",
       "    .dataframe tbody tr th {\n",
       "        vertical-align: top;\n",
       "    }\n",
       "\n",
       "    .dataframe thead th {\n",
       "        text-align: right;\n",
       "    }\n",
       "</style>\n",
       "<table border=\"1\" class=\"dataframe\">\n",
       "  <thead>\n",
       "    <tr style=\"text-align: right;\">\n",
       "      <th></th>\n",
       "      <th>person_id</th>\n",
       "      <th>label</th>\n",
       "      <th>diag_med</th>\n",
       "    </tr>\n",
       "  </thead>\n",
       "  <tbody>\n",
       "    <tr>\n",
       "      <th>0</th>\n",
       "      <td>180815</td>\n",
       "      <td>0</td>\n",
       "      <td>77812763, 11127621</td>\n",
       "    </tr>\n",
       "    <tr>\n",
       "      <th>1</th>\n",
       "      <td>67047</td>\n",
       "      <td>0</td>\n",
       "      <td>61660796, 55694559, 99200558</td>\n",
       "    </tr>\n",
       "    <tr>\n",
       "      <th>2</th>\n",
       "      <td>801507</td>\n",
       "      <td>1</td>\n",
       "      <td>96594808, 87477687, 23381895, 45926358, 556985...</td>\n",
       "    </tr>\n",
       "    <tr>\n",
       "      <th>3</th>\n",
       "      <td>228679</td>\n",
       "      <td>0</td>\n",
       "      <td>49908374, 71322858, 98064702, 58625048, 536304...</td>\n",
       "    </tr>\n",
       "    <tr>\n",
       "      <th>4</th>\n",
       "      <td>954090</td>\n",
       "      <td>0</td>\n",
       "      <td>84541011, 50501211, 99388728, 20423852, 41917932</td>\n",
       "    </tr>\n",
       "    <tr>\n",
       "      <th>...</th>\n",
       "      <td>...</td>\n",
       "      <td>...</td>\n",
       "      <td>...</td>\n",
       "    </tr>\n",
       "    <tr>\n",
       "      <th>49995</th>\n",
       "      <td>119298</td>\n",
       "      <td>1</td>\n",
       "      <td>55699689, 80229535, 71199796, 16211644</td>\n",
       "    </tr>\n",
       "    <tr>\n",
       "      <th>49996</th>\n",
       "      <td>313423</td>\n",
       "      <td>0</td>\n",
       "      <td>70411611, 37746533, 32884622, 35831503, 493672...</td>\n",
       "    </tr>\n",
       "    <tr>\n",
       "      <th>49997</th>\n",
       "      <td>634094</td>\n",
       "      <td>0</td>\n",
       "      <td>59666776, 96624625, 18343730, 98757379</td>\n",
       "    </tr>\n",
       "    <tr>\n",
       "      <th>49998</th>\n",
       "      <td>372709</td>\n",
       "      <td>0</td>\n",
       "      <td>7170672, 21038197, 20330955, 61775635, 31570442</td>\n",
       "    </tr>\n",
       "    <tr>\n",
       "      <th>49999</th>\n",
       "      <td>115457</td>\n",
       "      <td>0</td>\n",
       "      <td>45502826</td>\n",
       "    </tr>\n",
       "  </tbody>\n",
       "</table>\n",
       "<p>50000 rows × 3 columns</p>\n",
       "</div>"
      ],
      "text/plain": [
       "       person_id  label                                           diag_med\n",
       "0         180815      0                                 77812763, 11127621\n",
       "1          67047      0                       61660796, 55694559, 99200558\n",
       "2         801507      1  96594808, 87477687, 23381895, 45926358, 556985...\n",
       "3         228679      0  49908374, 71322858, 98064702, 58625048, 536304...\n",
       "4         954090      0   84541011, 50501211, 99388728, 20423852, 41917932\n",
       "...          ...    ...                                                ...\n",
       "49995     119298      1             55699689, 80229535, 71199796, 16211644\n",
       "49996     313423      0  70411611, 37746533, 32884622, 35831503, 493672...\n",
       "49997     634094      0             59666776, 96624625, 18343730, 98757379\n",
       "49998     372709      0    7170672, 21038197, 20330955, 61775635, 31570442\n",
       "49999     115457      0                                           45502826\n",
       "\n",
       "[50000 rows x 3 columns]"
      ]
     },
     "execution_count": 3,
     "metadata": {},
     "output_type": "execute_result"
    }
   ],
   "source": [
    "pd.read_csv('toy_EHR_data_50k.csv')"
   ]
  },
  {
   "cell_type": "code",
   "execution_count": 4,
   "metadata": {},
   "outputs": [],
   "source": [
    "# Classes\n",
    "\n",
    "class Person:\n",
    "  def __init__(self, name, age):\n",
    "    self.name = name\n",
    "    self.age = age\n",
    "    \n",
    "  def myfunc(self):\n",
    "        print(\"Hello my name is \" + self.name)\n",
    "\n"
   ]
  },
  {
   "cell_type": "code",
   "execution_count": 5,
   "metadata": {},
   "outputs": [
    {
     "name": "stdout",
     "output_type": "stream",
     "text": [
      "Hello my name is John\n"
     ]
    }
   ],
   "source": [
    "p1 = Person(\"John\", 36)\n",
    "\n",
    "#print(p1.name)\n",
    "#print(p1.age) \n",
    "\n",
    "p1.myfunc()"
   ]
  },
  {
   "cell_type": "code",
   "execution_count": null,
   "metadata": {},
   "outputs": [],
   "source": []
  }
 ],
 "metadata": {
  "kernelspec": {
   "display_name": "Python 3",
   "language": "python",
   "name": "python3"
  },
  "language_info": {
   "codemirror_mode": {
    "name": "ipython",
    "version": 3
   },
   "file_extension": ".py",
   "mimetype": "text/x-python",
   "name": "python",
   "nbconvert_exporter": "python",
   "pygments_lexer": "ipython3",
   "version": "3.7.4"
  }
 },
 "nbformat": 4,
 "nbformat_minor": 2
}
